{
 "cells": [
  {
   "cell_type": "code",
   "execution_count": 8,
   "metadata": {},
   "outputs": [
    {
     "ename": "UnicodeDecodeError",
     "evalue": "'charmap' codec can't decode byte 0x9d in position 1105: character maps to <undefined>",
     "output_type": "error",
     "traceback": [
      "\u001b[1;31m---------------------------------------------------------------------------\u001b[0m",
      "\u001b[1;31mUnicodeDecodeError\u001b[0m                        Traceback (most recent call last)",
      "\u001b[1;32m<ipython-input-8-9c566c4109b5>\u001b[0m in \u001b[0;36m<module>\u001b[1;34m\u001b[0m\n\u001b[0;32m     81\u001b[0m \u001b[1;33m\u001b[0m\u001b[0m\n\u001b[0;32m     82\u001b[0m \u001b[1;31m# let's begin\u001b[0m\u001b[1;33m\u001b[0m\u001b[1;33m\u001b[0m\u001b[1;33m\u001b[0m\u001b[0m\n\u001b[1;32m---> 83\u001b[1;33m \u001b[0mgenerate_summary\u001b[0m\u001b[1;33m(\u001b[0m \u001b[1;34m\"Summary.txt\"\u001b[0m\u001b[1;33m)\u001b[0m\u001b[1;33m\u001b[0m\u001b[1;33m\u001b[0m\u001b[0m\n\u001b[0m",
      "\u001b[1;32m<ipython-input-8-9c566c4109b5>\u001b[0m in \u001b[0;36mgenerate_summary\u001b[1;34m(file_name, top_n)\u001b[0m\n\u001b[0;32m     61\u001b[0m \u001b[1;33m\u001b[0m\u001b[0m\n\u001b[0;32m     62\u001b[0m     \u001b[1;31m# Step 1 - Read text anc split it\u001b[0m\u001b[1;33m\u001b[0m\u001b[1;33m\u001b[0m\u001b[1;33m\u001b[0m\u001b[0m\n\u001b[1;32m---> 63\u001b[1;33m     \u001b[0msentences\u001b[0m \u001b[1;33m=\u001b[0m  \u001b[0mread_article\u001b[0m\u001b[1;33m(\u001b[0m\u001b[0mfile_name\u001b[0m\u001b[1;33m)\u001b[0m\u001b[1;33m\u001b[0m\u001b[1;33m\u001b[0m\u001b[0m\n\u001b[0m\u001b[0;32m     64\u001b[0m \u001b[1;33m\u001b[0m\u001b[0m\n\u001b[0;32m     65\u001b[0m     \u001b[1;31m# Step 2 - Generate Similary Martix across sentences\u001b[0m\u001b[1;33m\u001b[0m\u001b[1;33m\u001b[0m\u001b[1;33m\u001b[0m\u001b[0m\n",
      "\u001b[1;32m<ipython-input-8-9c566c4109b5>\u001b[0m in \u001b[0;36mread_article\u001b[1;34m(file_name)\u001b[0m\n\u001b[0;32m      6\u001b[0m \u001b[1;32mdef\u001b[0m \u001b[0mread_article\u001b[0m\u001b[1;33m(\u001b[0m\u001b[0mfile_name\u001b[0m\u001b[1;33m)\u001b[0m\u001b[1;33m:\u001b[0m\u001b[1;33m\u001b[0m\u001b[1;33m\u001b[0m\u001b[0m\n\u001b[0;32m      7\u001b[0m     \u001b[0mfile\u001b[0m \u001b[1;33m=\u001b[0m \u001b[0mopen\u001b[0m\u001b[1;33m(\u001b[0m\u001b[0mfile_name\u001b[0m\u001b[1;33m,\u001b[0m \u001b[1;34m\"r\"\u001b[0m\u001b[1;33m)\u001b[0m\u001b[1;33m\u001b[0m\u001b[1;33m\u001b[0m\u001b[0m\n\u001b[1;32m----> 8\u001b[1;33m     \u001b[0mfiledata\u001b[0m \u001b[1;33m=\u001b[0m \u001b[0mfile\u001b[0m\u001b[1;33m.\u001b[0m\u001b[0mreadlines\u001b[0m\u001b[1;33m(\u001b[0m\u001b[1;33m)\u001b[0m\u001b[1;33m\u001b[0m\u001b[1;33m\u001b[0m\u001b[0m\n\u001b[0m\u001b[0;32m      9\u001b[0m     \u001b[0marticle\u001b[0m \u001b[1;33m=\u001b[0m \u001b[0mfiledata\u001b[0m\u001b[1;33m[\u001b[0m\u001b[1;36m0\u001b[0m\u001b[1;33m]\u001b[0m\u001b[1;33m.\u001b[0m\u001b[0msplit\u001b[0m\u001b[1;33m(\u001b[0m\u001b[1;34m\". \"\u001b[0m\u001b[1;33m)\u001b[0m\u001b[1;33m\u001b[0m\u001b[1;33m\u001b[0m\u001b[0m\n\u001b[0;32m     10\u001b[0m     \u001b[0msentences\u001b[0m \u001b[1;33m=\u001b[0m \u001b[1;33m[\u001b[0m\u001b[1;33m]\u001b[0m\u001b[1;33m\u001b[0m\u001b[1;33m\u001b[0m\u001b[0m\n",
      "\u001b[1;32m~\\anaconda3\\lib\\encodings\\cp1252.py\u001b[0m in \u001b[0;36mdecode\u001b[1;34m(self, input, final)\u001b[0m\n\u001b[0;32m     21\u001b[0m \u001b[1;32mclass\u001b[0m \u001b[0mIncrementalDecoder\u001b[0m\u001b[1;33m(\u001b[0m\u001b[0mcodecs\u001b[0m\u001b[1;33m.\u001b[0m\u001b[0mIncrementalDecoder\u001b[0m\u001b[1;33m)\u001b[0m\u001b[1;33m:\u001b[0m\u001b[1;33m\u001b[0m\u001b[1;33m\u001b[0m\u001b[0m\n\u001b[0;32m     22\u001b[0m     \u001b[1;32mdef\u001b[0m \u001b[0mdecode\u001b[0m\u001b[1;33m(\u001b[0m\u001b[0mself\u001b[0m\u001b[1;33m,\u001b[0m \u001b[0minput\u001b[0m\u001b[1;33m,\u001b[0m \u001b[0mfinal\u001b[0m\u001b[1;33m=\u001b[0m\u001b[1;32mFalse\u001b[0m\u001b[1;33m)\u001b[0m\u001b[1;33m:\u001b[0m\u001b[1;33m\u001b[0m\u001b[1;33m\u001b[0m\u001b[0m\n\u001b[1;32m---> 23\u001b[1;33m         \u001b[1;32mreturn\u001b[0m \u001b[0mcodecs\u001b[0m\u001b[1;33m.\u001b[0m\u001b[0mcharmap_decode\u001b[0m\u001b[1;33m(\u001b[0m\u001b[0minput\u001b[0m\u001b[1;33m,\u001b[0m\u001b[0mself\u001b[0m\u001b[1;33m.\u001b[0m\u001b[0merrors\u001b[0m\u001b[1;33m,\u001b[0m\u001b[0mdecoding_table\u001b[0m\u001b[1;33m)\u001b[0m\u001b[1;33m[\u001b[0m\u001b[1;36m0\u001b[0m\u001b[1;33m]\u001b[0m\u001b[1;33m\u001b[0m\u001b[1;33m\u001b[0m\u001b[0m\n\u001b[0m\u001b[0;32m     24\u001b[0m \u001b[1;33m\u001b[0m\u001b[0m\n\u001b[0;32m     25\u001b[0m \u001b[1;32mclass\u001b[0m \u001b[0mStreamWriter\u001b[0m\u001b[1;33m(\u001b[0m\u001b[0mCodec\u001b[0m\u001b[1;33m,\u001b[0m\u001b[0mcodecs\u001b[0m\u001b[1;33m.\u001b[0m\u001b[0mStreamWriter\u001b[0m\u001b[1;33m)\u001b[0m\u001b[1;33m:\u001b[0m\u001b[1;33m\u001b[0m\u001b[1;33m\u001b[0m\u001b[0m\n",
      "\u001b[1;31mUnicodeDecodeError\u001b[0m: 'charmap' codec can't decode byte 0x9d in position 1105: character maps to <undefined>"
     ]
    }
   ],
   "source": [
    "from nltk.corpus import stopwords\n",
    "from nltk.cluster.util import cosine_distance\n",
    "import numpy as np\n",
    "import networkx as nx\n",
    " \n",
    "def read_article(file_name):\n",
    "    file = open(file_name, \"r\")\n",
    "    filedata = file.readlines()\n",
    "    article = filedata[0].split(\". \")\n",
    "    sentences = []\n",
    "\n",
    "    for sentence in article:\n",
    "        print(sentence)\n",
    "        sentences.append(sentence.replace(\"[^a-zA-Z]\", \" \").split(\" \"))\n",
    "    sentences.pop() \n",
    "    \n",
    "    return sentences\n",
    "\n",
    "def sentence_similarity(sent1, sent2, stopwords=None):\n",
    "    if stopwords is None:\n",
    "        stopwords = []\n",
    " \n",
    "    sent1 = [w.lower() for w in sent1]\n",
    "    sent2 = [w.lower() for w in sent2]\n",
    " \n",
    "    all_words = list(set(sent1 + sent2))\n",
    " \n",
    "    vector1 = [0] * len(all_words)\n",
    "    vector2 = [0] * len(all_words)\n",
    " \n",
    "    # build the vector for the first sentence\n",
    "    for w in sent1:\n",
    "        if w in stopwords:\n",
    "            continue\n",
    "        vector1[all_words.index(w)] += 1\n",
    " \n",
    "    # build the vector for the second sentence\n",
    "    for w in sent2:\n",
    "        if w in stopwords:\n",
    "            continue\n",
    "        vector2[all_words.index(w)] += 1\n",
    " \n",
    "    return 1 - cosine_distance(vector1, vector2)\n",
    " \n",
    "def build_similarity_matrix(sentences, stop_words):\n",
    "    # Create an empty similarity matrix\n",
    "    similarity_matrix = np.zeros((len(sentences), len(sentences)))\n",
    " \n",
    "    for idx1 in range(len(sentences)):\n",
    "        for idx2 in range(len(sentences)):\n",
    "            if idx1 == idx2: #ignore if both are same sentences\n",
    "                continue \n",
    "            similarity_matrix[idx1][idx2] = sentence_similarity(sentences[idx1], sentences[idx2], stop_words)\n",
    "\n",
    "    return similarity_matrix\n",
    "\n",
    "\n",
    "def generate_summary(file_name, top_n=5):\n",
    "    stop_words = stopwords.words('english')\n",
    "    summarize_text = []\n",
    "\n",
    "    # Step 1 - Read text anc split it\n",
    "    sentences =  read_article(file_name)\n",
    "\n",
    "    # Step 2 - Generate Similary Martix across sentences\n",
    "    sentence_similarity_martix = build_similarity_matrix(sentences, stop_words)\n",
    "\n",
    "    # Step 3 - Rank sentences in similarity martix\n",
    "    sentence_similarity_graph = nx.from_numpy_array(sentence_similarity_martix)\n",
    "    scores = nx.pagerank(sentence_similarity_graph)\n",
    "\n",
    "    # Step 4 - Sort the rank and pick top sentences\n",
    "    ranked_sentence = sorted(((scores[i],s) for i,s in enumerate(sentences)), reverse=True)    \n",
    "    print(\"Indexes of top ranked_sentence order are \", ranked_sentence)    \n",
    "\n",
    "    for i in range(top_n):\n",
    "      summarize_text.append(\" \".join(ranked_sentence[i][1]))\n",
    "\n",
    "    # Step 5 - Offcourse, output the summarize texr\n",
    "    print(\"Summarize Text: \\n\", \". \".join(summarize_text))\n",
    "\n",
    "# let's begin\n",
    "generate_summary( \"Summary.txt\")"
   ]
  },
  {
   "cell_type": "code",
   "execution_count": 1,
   "metadata": {},
   "outputs": [
    {
     "name": "stdout",
     "output_type": "stream",
     "text": [
      "Live UpdatesMultiple dead in shooting at Colorado supermarketBy Veronica Rocha, Elise Hammond, Joshua Berlinger and Adam Renton, CNNUpdated 2:02 a.m. ET, March 23, 2021What we know nowTen people, including a Boulder police officer, were killed in a shooting at the King Soopers supermarket in Boulder, Colorado, police said.The suspect was taken into custody and is being treated for injuries, officials said.share with Facebookshare with Twittershare with emailshare link15 PostsSort byLatestOldestDropdown arrow6 hr 16 min agoPeople seen lying on the ground in eyewitness video of Colorado shootingFrom CNN's Paul MurphyVideo taken by an eyewitness to the Boulder, Colorado, supermarket shooting appears to show people lying on the ground inside and outside the store, and purported gunshots are heard.The video, taken by Dean Schiller, is part of a longer live stream that he took as the shooting progressed and police arrived.\n",
      "Turned their phone off and were going ‘we’re hiding, we’re okay’ you know, ‘don't call’ you know the phone would ring and give away their position,\" he said.share with Facebookshare with Twittershare with emailshare link7 hr 4 min agoBoulder Community Health has one patientFrom CNN’s Jamiel LynchBoulder Community Health says they have had one patient transported to their facility from the shooting at King Soopers, Rich Sheehan, a spokesperson with Boulder Community Health, told CNN.\n",
      "Boulder Community Health is a Level II Trauma Center.We don't know about the conditions of anyone else in the store at this time.share with Facebookshare with Twittershare with emailshare link7 hr 17 min agoBoulder mayor says no words can describe \"the tragedy\" that is unfoldingBoulder, Colorado, Mayor Sam Weaver thanked police officers and first responders at the scene of an active shooter, saying \"words can do no justice to the tragedy that has unfolded this afternoon.\"\"Our community will soon grieve our losses, and begin our healing.\n",
      "Our brave police officers and first responders have the gratitude of our entire city,\" Weaver said in a tweet on Monday.Colorado Gov. Jared Polis said earlier that he is \"closely watching\" as events unfold.Boulder police say the scene is still \"very active,\" but we do not know a lot of information about what happened – including the conditions of people inside the store.share with Facebookshare with Twittershare with emailshare link7 hr 24 min agoBoulder police urge people to stay awayFrom CNN’s Keith Allen via KUSABoulder police are urging people to stay inside because the scene at King Soopers is still \"very active\" as they respond to reports of an active shooter.“Please avoid the area of Table Mesa & Broadway!\n",
      "SWAT vehicles were also seen moving about, and multiple officers were in tactical positions around the store’s exterior.Police were also seen moving on the roof of the store, the purposes for the roof movements are unclear.share with Facebookshare with Twittershare with emailshare link7 hr 27 min agoWitness describes scene inside supermarket: \"Everybody was running\"An eyewitness told CNN affiliate KCNC he was inside the King Sooper grocery store at the time of the shooting.\n",
      "He told KCNC: \"We weren't tripping over each other, but we were single file just you know, somebody had their hand on my back, I had my hand on somebody's back, and we were just saying go, go, go, run.\"The witness told the TV station that he went to the store to grab a soda and chips, when he heard \"one loud bang, thought somebody just dropped something an employee or something, and then another, and then by the third one, everybody was running.\"share with Facebookshare with Twittershare with emailshare link7 hr 9 min agoPolice are likely securing the building right now, former law enforcement officials say via KMGHPhil Mudd, a former FBI senior intelligence adviser, said at this point in the investigation, police are concerned with two primary things: Making sure the building is secure and finding the shooter, or shooters.\"Right now, you've got to ensure this is the only person – if they picked up something already – and that the facility is secure,\" he told CNN on Monday as law enforcement are responding to the situation.He said this is not an easy task, and it will take time to make sure it is safe.\"In a building of that size, that you can clear the building and guarantee that nobody else is in there, think about every storage component in that building, every refrigerated room.\n"
     ]
    }
   ],
   "source": [
    "from gensim.summarization.summarizer import summarize \n",
    "text = \"\"\"Live UpdatesMultiple dead in shooting at Colorado supermarketBy Veronica Rocha, Elise Hammond, Joshua Berlinger and Adam Renton, CNNUpdated 2:02 a.m. ET, March 23, 2021What we know nowTen people, including a Boulder police officer, were killed in a shooting at the King Soopers supermarket in Boulder, Colorado, police said.The suspect was taken into custody and is being treated for injuries, officials said.share with Facebookshare with Twittershare with emailshare link15 PostsSort byLatestOldestDropdown arrow6 hr 16 min agoPeople seen lying on the ground in eyewitness video of Colorado shootingFrom CNN's Paul MurphyVideo taken by an eyewitness to the Boulder, Colorado, supermarket shooting appears to show people lying on the ground inside and outside the store, and purported gunshots are heard.The video, taken by Dean Schiller, is part of a longer live stream that he took as the shooting progressed and police arrived. In the excerpt, Schiller is heard calling out saying that people need to call 9-1-1. “We don’t know if there’s a shooter — active shooter, active shooter somewhere,” Schiller said in the video. Schiller is heard on the video asking what appears to be a store employee whether a shooter went into the store.Here's how that conversation played out:\"Yeah, he went in there,\" the man responded.“He went in the store?” Schiller asked.“He went right down there,” the man responds. “Oh my god,” Schiller reacts. “People we got people down inside Kings Soopers.”Schiller then says, “Look there’s-,” but doesn’t finish his sentence as two gunshots stop his speaking.Some background: Boulder Police had tweeted earlier on Monday there was an, “Active Shooter at the King Soopers on Table Mesa. AVOID THE AREA.”CNN affiliate KMGH’s helicopter recorded a shirtless man being taken from the supermarket. The man had what appears to be blood on his arm and right leg and his hands appeared to be cuffed behind him as two officers escorted him away. The man was taken away in an ambulance.share with Facebookshare with Twittershare with emailshare link6 hr 24 min agoShooting witness says some people ran, others frozeRyan Borowski. Source: CNNRyan Borowski, one of the people inside the King Soopers grocery store when a shooter starting firing shots, said everyone helped each other get out of the back of the store.He said he heard two loud sounds, and by the third one, he and the people around him realized they were gunshots. He said they started running to the back of the store and employees helped them out the back door.\"We told employees what was going on so everybody helped each other and we just ran to safety as quickly as we could,\" Borowski told CNN from behind the store in Boulder, Colorado, about two hours after the shooting.Borowski said he was going to get ice cream, but then changed his mind and started walking the other way.\"I didn't see the shooter. I saw terrified faces running towards me and that's when I turned and ran the other direction,\" he said.He said everyone was helping each other, but while some people ran, others froze.\"We ran and I don't know why other people didn't and I am sorry that they froze and I just wish that this didn't happen – I wish I had an answer for why it did,\" he said.He said he could have never imagined a situation like this happening in Boulder.\"Boulder feels like a bubble and the bubble burst and that's heartbreaking. To think that people died today,\" Borowski said. Police have not confirmed whether anyone was killed.\"This feels like the safest spot in America and I just nearly got killed for getting a soda, you know, and a bag of chips. Doesn't feel good,\" he added.Watch here:share with Facebookshare with Twittershare with emailshare link6 hr 45 min agoThe FBI is on scene to assist Boulder policeFrom CNN's Jamiel Lynch FBI Denver personnel are on scene helping the Boulder Police Department, according to a tweet.“At the request of the Boulder Police Department, FBI Denver personnel are assisting with an investigation into an active shooter situation at a King Soopers grocery store on Table Mesa Drive in Boulder,” the agency tweeted.CNN’s Lucy Kafanov reported seeing FBI agents on the scene at the supermarket.share with Facebookshare with Twittershare with emailshare link7 hr 1 min agoMan says his family members hid inside a closet for an hourCNN affiliate KCNC reporter Conor McCue spoke with a man whose family was inside the King Soopers pharmacy to get a Covid-19 vaccine when the shooter arrived. He said they hid in a closet for an hour before being rescued through the roof.\"I got the call from my daughter and my grandchildren that my son-in-law walked into the pharmacy for him to get a Covid-19 shot and the shooter came in, shot the woman in front of them,\" the man told KCNC.\"They hid, ran upstairs, were hiding in a coat closet for the last hour,\" he said. \"They are okay. They just are now out the back,\" he added.He said his daughter was texting him from the closet, before turning her phone off.\"They were texting, hiding in the coat closet. Turned their phone off and were going ‘we’re hiding, we’re okay’ you know, ‘don't call’ you know the phone would ring and give away their position,\" he said.share with Facebookshare with Twittershare with emailshare link7 hr 4 min agoBoulder Community Health has one patientFrom CNN’s Jamiel LynchBoulder Community Health says they have had one patient transported to their facility from the shooting at King Soopers, Rich Sheehan, a spokesperson with Boulder Community Health, told CNN. Sheehan said he is not able to release details about the person’s condition. Boulder Community Health is a Level II Trauma Center.We don't know about the conditions of anyone else in the store at this time.share with Facebookshare with Twittershare with emailshare link7 hr 17 min agoBoulder mayor says no words can describe \"the tragedy\" that is unfoldingBoulder, Colorado, Mayor Sam Weaver thanked police officers and first responders at the scene of an active shooter, saying \"words can do no justice to the tragedy that has unfolded this afternoon.\"\"Our community will soon grieve our losses, and begin our healing. Our brave police officers and first responders have the gratitude of our entire city,\" Weaver said in a tweet on Monday.Colorado Gov. Jared Polis said earlier that he is \"closely watching\" as events unfold.Boulder police say the scene is still \"very active,\" but we do not know a lot of information about what happened – including the conditions of people inside the store.share with Facebookshare with Twittershare with emailshare link7 hr 24 min agoBoulder police urge people to stay awayFrom CNN’s Keith Allen via KUSABoulder police are urging people to stay inside because the scene at King Soopers is still \"very active\" as they respond to reports of an active shooter.“Please avoid the area of Table Mesa & Broadway! This is still a very active scene,” Boulder police tweeted moments ago. “Do NOT broadcast on social media any tactical information you might see.”“If you live nearby please stay inside for now,” Boulder police tweeted.CNN affiliate KMGH’s helicopter also filmed several people led away from the King Soopers store by police. SWAT vehicles were also seen moving about, and multiple officers were in tactical positions around the store’s exterior.Police were also seen moving on the roof of the store, the purposes for the roof movements are unclear.share with Facebookshare with Twittershare with emailshare link7 hr 27 min agoWitness describes scene inside supermarket: \"Everybody was running\"An eyewitness told CNN affiliate KCNC he was inside the King Sooper grocery store at the time of the shooting. He described an urgent, but orderly escape from the store. He told KCNC: \"We weren't tripping over each other, but we were single file just you know, somebody had their hand on my back, I had my hand on somebody's back, and we were just saying go, go, go, run.\"The witness told the TV station that he went to the store to grab a soda and chips, when he heard \"one loud bang, thought somebody just dropped something an employee or something, and then another, and then by the third one, everybody was running.\"share with Facebookshare with Twittershare with emailshare link7 hr 9 min agoPolice are likely securing the building right now, former law enforcement officials say via KMGHPhil Mudd, a former FBI senior intelligence adviser, said at this point in the investigation, police are concerned with two primary things: Making sure the building is secure and finding the shooter, or shooters.\"Right now, you've got to ensure this is the only person – if they picked up something already – and that the facility is secure,\" he told CNN on Monday as law enforcement are responding to the situation.He said this is not an easy task, and it will take time to make sure it is safe.\"In a building of that size, that you can clear the building and guarantee that nobody else is in there, think about every storage component in that building, every refrigerated room. It will take a while to clear it,\" Mudd said.Charles Ramsey, a former Philadelphia police commissioner, said officials need to make sure the building is secure before releasing more information.\"They may give some preliminary information, but it won't be much. It will be pretty sketchy at this point in time. These scenes are very chaotic in the early stages. So it's got to settle down,\" he said.\"Number one is clear the scene, make sure you eliminate whatever threat may be there and that that building is totally secure,\" Ramsey added.Watch here:share with Facebookshare with Twittershare with emailshare link\"\"\"\n",
    "#print('Summary:')\n",
    "print(summarize(text))"
   ]
  },
  {
   "cell_type": "code",
   "execution_count": 42,
   "metadata": {
    "scrolled": false
   },
   "outputs": [
    {
     "name": "stdout",
     "output_type": "stream",
     "text": [
      "Summary:\n",
      "I saw terrified faces running towards me and that's when I turned and ran the other direction,\" he said.\"I got the call from my daughter and my grandchildren that my son-in-law walked into the pharmacy for him to get a Covid-19 shot and the shooter came in, shot the woman in front of them,\" the man told KCNC.\"Number one is clear the scene, make sure you eliminate whatever threat may be there and that that building is totally secure,\" Ramsey added.\"Right now, you've got to ensure this is the only person – if they picked up something already – and that the facility is secure,\" he told CNN on Monday as law enforcement are responding to the situation.\"They may give some preliminary information, but it won't be much.\n",
      "Doesn't feel good,\" he added.\"We told employees what was going on so everybody helped each other and we just ran to safety as quickly as we could,\" Borowski told CNN from behind the store in Boulder, Colorado, about two hours after the shooting.An eyewitness told CNN affiliate KCNC he was inside the King Sooper grocery store at the time of the shooting.\n",
      "He said they hid in a closet for an hour before being rescued through the roof.CNN affiliate KMGH’s helicopter also filmed several people led away from the King Soopers store by police.\n",
      "He said they started running to the back of the store and employees helped them out the back door.He said his daughter was texting him from the closet, before turning her phone off.He said this is not an easy task, and it will take time to make sure it is safe.He told KCNC: \"We weren't tripping over each other, but we were single file just you know, somebody had their hand on my back, I had my hand on somebody's back, and we were just saying go, go, go, run.\"Here's how that conversation played out:In the excerpt, Schiller is heard calling out saying that people need to call 9-1-1.\n",
      "Phil Mudd, a former FBI senior intelligence adviser, said at this point in the investigation, police are concerned with two primary things: Making sure the building is secure and finding the shooter, or shooters.Police were also seen moving on the roof of the store, the purposes for the roof movements are unclear.Ryan Borowski, one of the people inside the King Soopers grocery store when a shooter starting firing shots, said everyone helped each other get out of the back of the store.Schiller is heard on the video asking what appears to be a store employee whether a shooter went into the store.Sheehan said he is not able to release details about the person’s condition.\n",
      "The witness told the TV station that he went to the store to grab a soda and chips, when he heard \"one loud bang, thought somebody just dropped something an employee or something, and then another, and then by the third one, everybody was running.\"Video taken by an eyewitness to the Boulder, Colorado, supermarket shooting appears to show people lying on the ground inside and outside the store, and purported gunshots are heard.Watch here:We don't know about the conditions of anyone else in the store at this time.“Please avoid the area of Table Mesa & Broadway!\n"
     ]
    }
   ],
   "source": [
    "from gensim.summarization.summarizer import summarize \n",
    "text = \"\"\"\"Boulder feels like a bubble and the bubble burst and that's heartbreaking.\n",
    "To think that people died today,\" Borowski said.\n",
    "Police have not confirmed whether anyone was killed.\"I didn't see the shooter.\n",
    "I saw terrified faces running towards me and that's when I turned and ran the other direction,\" he said.\"I got the call from my daughter and my grandchildren that my son-in-law walked into the pharmacy for him to get a Covid-19 shot and the shooter came in, shot the woman in front of them,\" the man told KCNC.\"Number one is clear the scene, make sure you eliminate whatever threat may be there and that that building is totally secure,\" Ramsey added.\"Right now, you've got to ensure this is the only person – if they picked up something already – and that the facility is secure,\" he told CNN on Monday as law enforcement are responding to the situation.\"They may give some preliminary information, but it won't be much.\n",
    "It will be pretty sketchy at this point in time.\n",
    "These scenes are very chaotic in the early stages.\n",
    "So it's got to settle down,\" he said.\"They were texting, hiding in the coat closet.\n",
    "Turned their phone off and were going ‘we’re hiding, we’re okay’ you know, ‘don't call’ you know the phone would ring and give away their position,\" he said.\"This feels like the safest spot in America and I just nearly got killed for getting a soda, you know, and a bag of chips.\n",
    "Doesn't feel good,\" he added.\"We told employees what was going on so everybody helped each other and we just ran to safety as quickly as we could,\" Borowski told CNN from behind the store in Boulder, Colorado, about two hours after the shooting.An eyewitness told CNN affiliate KCNC he was inside the King Sooper grocery store at the time of the shooting.\n",
    "Borowski said he was going to get ice cream, but then changed his mind and started walking the other way.Boulder Community Health is a Level II Trauma Center.Boulder Community Health says they have had one patient transported to their facility from the shooting at King Soopers, Rich Sheehan, a spokesperson with Boulder Community Health, told CNN.\n",
    "Boulder police are urging people to stay inside because the scene at King Soopers is still \"very active\" as they respond to reports of an active shooter.Boulder police say the scene is still \"very active,\" but we do not know a lot of information about what happened – including the conditions of people inside the store.Boulder, Colorado, Mayor Sam Weaver thanked police officers and first responders at the scene of an active shooter, saying \"words can do no justice to the tragedy that has unfolded this afternoon.\"By Veronica Rocha, Elise Hammond, Joshua Berlinger and Adam Renton, CNN CNN affiliate KCNC reporter Conor McCue spoke with a man whose family was inside the King Soopers pharmacy to get a Covid-19 vaccine when the shooter arrived.\n",
    "He said they hid in a closet for an hour before being rescued through the roof.CNN affiliate KMGH’s helicopter also filmed several people led away from the King Soopers store by police.\n",
    "SWAT vehicles were also seen moving about, and multiple officers were in tactical positions around the store’s exterior.CNN affiliate KMGH’s helicopter recorded a shirtless man being taken from the supermarket.\n",
    "The man had what appears to be blood on his arm and right leg and his hands appeared to be cuffed behind him as two officers escorted him away.\n",
    "The man was taken away in an ambulance.CNN’s Lucy Kafanov reported seeing FBI agents on the scene at the supermarket.Charles Ramsey, a former Philadelphia police commissioner, said officials need to make sure the building is secure before releasing more information.Colorado Gov.\n",
    "Jared Polis said earlier that he is \"closely watching\" as events unfold.FBI Denver personnel are on scene helping the Boulder Police Department, according to a tweet.From CNN's Jamiel Lynch From CNN's Paul MurphyFrom CNN’s Jamiel LynchFrom CNN’s Keith AllenHe described an urgent, but orderly escape from the store.\n",
    "He said everyone was helping each other, but while some people ran, others froze.He said he could have never imagined a situation like this happening in Boulder.He said he heard two loud sounds, and by the third one, he and the people around him realized they were gunshots.\n",
    "He said they started running to the back of the store and employees helped them out the back door.He said his daughter was texting him from the closet, before turning her phone off.He said this is not an easy task, and it will take time to make sure it is safe.He told KCNC: \"We weren't tripping over each other, but we were single file just you know, somebody had their hand on my back, I had my hand on somebody's back, and we were just saying go, go, go, run.\"Here's how that conversation played out:In the excerpt, Schiller is heard calling out saying that people need to call 9-1-1.\n",
    "Phil Mudd, a former FBI senior intelligence adviser, said at this point in the investigation, police are concerned with two primary things: Making sure the building is secure and finding the shooter, or shooters.Police were also seen moving on the roof of the store, the purposes for the roof movements are unclear.Ryan Borowski, one of the people inside the King Soopers grocery store when a shooter starting firing shots, said everyone helped each other get out of the back of the store.Schiller is heard on the video asking what appears to be a store employee whether a shooter went into the store.Sheehan said he is not able to release details about the person’s condition.\n",
    "Some background: Boulder Police had tweeted earlier on Monday there was an, “Active Shooter at the King Soopers on Table Mesa.\n",
    "AVOID THE AREA.”The video, taken by Dean Schiller, is part of a longer live stream that he took as the shooting progressed and police arrived.\n",
    "The witness told the TV station that he went to the store to grab a soda and chips, when he heard \"one loud bang, thought somebody just dropped something an employee or something, and then another, and then by the third one, everybody was running.\"Video taken by an eyewitness to the Boulder, Colorado, supermarket shooting appears to show people lying on the ground inside and outside the store, and purported gunshots are heard.Watch here:We don't know about the conditions of anyone else in the store at this time.“Please avoid the area of Table Mesa & Broadway! This is still a very active scene,” Boulder police tweeted moments ago.\n",
    "“Do NOT broadcast on social media any tactical information you might see.”“We don’t know if there’s a shooter — active shooter, active shooter somewhere,” Schiller said in the video.\"\"\"\n",
    "print('Summary:')\n",
    "print(summarize(text,ratio=.3))\n"
   ]
  },
  {
   "cell_type": "code",
   "execution_count": 38,
   "metadata": {},
   "outputs": [
    {
     "name": "stdout",
     "output_type": "stream",
     "text": [
      "I saw terrified faces running towards me and that's when I turned and ran the other direction,\" he said.\"I got the call from my daughter and my grandchildren that my son-in-law walked into the pharmacy for him to get a Covid-19 shot and the shooter came in, shot the woman in front of them,\" the man told KCNC.\"Number one is clear the scene, make sure you eliminate whatever threat may be there and that that building is totally secure,\" Ramsey added.\"Right now, you've got to ensure this is the only person – if they picked up something already – and that the facility is secure,\" he told CNN on Monday as law enforcement are responding to the situation.\"They may give some preliminary information, but it won't be much.\n",
      "Doesn't feel good,\" he added.\"We told employees what was going on so everybody helped each other and we just ran to safety as quickly as we could,\" Borowski told CNN from behind the store in Boulder, Colorado, about two hours after the shooting.An eyewitness told CNN affiliate KCNC he was inside the King Sooper grocery store at the time of the shooting.\n"
     ]
    }
   ],
   "source": [
    "print(summarize(text, word_count = 200))"
   ]
  },
  {
   "cell_type": "code",
   "execution_count": null,
   "metadata": {},
   "outputs": [],
   "source": []
  }
 ],
 "metadata": {
  "kernelspec": {
   "display_name": "Python 3",
   "language": "python",
   "name": "python3"
  },
  "language_info": {
   "codemirror_mode": {
    "name": "ipython",
    "version": 3
   },
   "file_extension": ".py",
   "mimetype": "text/x-python",
   "name": "python",
   "nbconvert_exporter": "python",
   "pygments_lexer": "ipython3",
   "version": "3.7.6"
  }
 },
 "nbformat": 4,
 "nbformat_minor": 4
}
