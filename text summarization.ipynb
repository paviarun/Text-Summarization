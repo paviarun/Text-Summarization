{
 "cells": [
  {
   "cell_type": "code",
   "execution_count": 1,
   "metadata": {},
   "outputs": [],
   "source": [
    "from gensim.summarization.summarizer import summarize"
   ]
  },
  {
   "cell_type": "code",
   "execution_count": 14,
   "metadata": {},
   "outputs": [],
   "source": [
    "#f = open(\"bbc.txt\", \"r\")\n",
    "#print(f.read())\n",
    "#f.close()"
   ]
  },
  {
   "cell_type": "code",
   "execution_count": 11,
   "metadata": {},
   "outputs": [],
   "source": [
    "text='''The Biden administration has said it will open additional facilities for migrants after images from a detention centre in Texas showed children huddled together in crowded makeshift rooms.\n",
    "\n",
    "The Texas site, a government-run tent city in Donna at the US-Mexico border, is reportedly housing 1,000 people.\n",
    "\n",
    "The photos are the first to show conditions at such facilities since President Joe Biden took office.\n",
    "\n",
    "Critics have blamed Mr Biden for a surge in illegal migration to the US.\n",
    "\n",
    "Since taking office in January, Mr Biden has removed some of the restrictions for those entering the US introduced by his predecessor, Donald Trump.\n",
    "\n",
    "His administration has reversed a policy of turning away unaccompanied children at the border, instead opting to process them and place them with sponsoring families in the US.\n",
    "\n",
    "\n",
    "On Monday, White House Press Secretary Jen Psaki said the US government was working to provide further accommodation for arrivals \"in the coming days and weeks\".\n",
    "\n",
    "\"Places where kids can have access to healthcare, can have access to educational resources - even legal resources,\" she said.\n",
    "\n",
    "Her comments came after images released on Monday by Texas Congressman Henry Cuellar, a Democrat, showed children at the facility in Donna sleeping on thin mattresses on the floor under foil blankets.\n",
    "\n",
    "Migrants at the US Customs and Border Protection temporary processing centre in Donna, Texas, 22 March 2021\n",
    "\n",
    "The US Centers for Disease Control and Prevention (CDC) recommends that people remain 2m (6ft) apart to help prevent the spread of virus infections.\n",
    "\n",
    "Mr Cuellar said that those being housed at the centre had been divided among eight plastic \"pods\" that were overcrowded.\n",
    "\n",
    "Activists have also said that those housed at the site had not been given adequate access to soap or food.\n",
    "\n",
    "Migrants at the US Customs and Border Protection temporary processing centre in Donna, Texas, 22 March 2021\n",
    "\n",
    "\n",
    "She said the alternative was to send children back \"on this treacherous journey - that is not, in our view, the right choice to make\".\n",
    "\n",
    "Journalists have not been permitted inside the detention centres since Mr Biden took office, although the White House has said that they will be.\n",
    "\n",
    "Lawyers who represent the children, and lawmakers who have toured the facilities, have described conditions as cramped.\n",
    "\n",
    "Migrants at the US Customs and Border Protection temporary processing centre in the city of Donna\n",
    "\n",
    "\n",
    "The US government has said it wants to work with Mexico and Guatemala to address the root causes of the problem, which include widespread poverty and violence in Central America.\n",
    "\n",
    "Ms Psaki said there was special concern about the growing number of unaccompanied children arriving at US border crossings, and that their wellbeing was a priority.\n",
    "\n",
    "\"Children presenting at our border who are fleeing violence, who are fleeing persecution, who are fleeing terrible situations is not a crisis,\" she said.\n",
    "\n",
    "\"We feel that it is our responsibility to humanely approach this circumstance and make sure they are treated... and put in to conditions that are safe.\"\n",
    "\n",
    "The government-run tent city in Donna at the US-Mexico border\n",
    "There has been a big influx of arrivals to the US southern border since Mr Biden took office, including hundreds of unaccompanied children who are being held in US immigration detention facilities.\n",
    "\n",
    "Since January, the president has ordered the reunification of migrant children with their families, ended construction of Mr Trump's border wall and called for reviews of legal immigration programmes terminated by the former president.\n",
    "\n",
    "While in office, Mr Trump faced criticism over the conditions inside border facilities holding children.\n",
    "\n",
    "Some Trump-era facilities - now renovated and upgraded - are being used again. Despite concerns about coronavirus, health officials from the CDC have said these facilities can open at 100% capacity.'''"
   ]
  },
  {
   "cell_type": "code",
   "execution_count": 13,
   "metadata": {},
   "outputs": [
    {
     "name": "stdout",
     "output_type": "stream",
     "text": [
      "The Biden administration has said it will open additional facilities for migrants after images from a detention centre in Texas showed children huddled together in crowded makeshift rooms.\n",
      "The Texas site, a government-run tent city in Donna at the US-Mexico border, is reportedly housing 1,000 people.\n",
      "Journalists have not been permitted inside the detention centres since Mr Biden took office, although the White House has said that they will be.\n",
      "There has been a big influx of arrivals to the US southern border since Mr Biden took office, including hundreds of unaccompanied children who are being held in US immigration detention facilities.\n",
      "While in office, Mr Trump faced criticism over the conditions inside border facilities holding children.\n"
     ]
    }
   ],
   "source": [
    "print(summarize(text,ratio=.2))"
   ]
  },
  {
   "cell_type": "code",
   "execution_count": null,
   "metadata": {},
   "outputs": [],
   "source": []
  }
 ],
 "metadata": {
  "kernelspec": {
   "display_name": "Python 3",
   "language": "python",
   "name": "python3"
  },
  "language_info": {
   "codemirror_mode": {
    "name": "ipython",
    "version": 3
   },
   "file_extension": ".py",
   "mimetype": "text/x-python",
   "name": "python",
   "nbconvert_exporter": "python",
   "pygments_lexer": "ipython3",
   "version": "3.7.6"
  }
 },
 "nbformat": 4,
 "nbformat_minor": 2
}
