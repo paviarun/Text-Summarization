{
 "cells": [
  {
   "cell_type": "code",
   "execution_count": 1,
   "metadata": {},
   "outputs": [],
   "source": [
    "from gensim.summarization.summarizer import summarize"
   ]
  },
  {
   "cell_type": "code",
   "execution_count": 124,
   "metadata": {},
   "outputs": [],
   "source": [
    "f = open(\"skip.txt\", \"r\")\n",
    "ab=f.read()\n",
    "#f.close()"
   ]
  },
  {
   "cell_type": "code",
   "execution_count": 149,
   "metadata": {},
   "outputs": [],
   "source": [
    "#from nltk.tokenize import word_tokenize\n",
    "#word_tokenize(f)\n",
    "abc=ab.split(\"\\n\")"
   ]
  },
  {
   "cell_type": "code",
   "execution_count": 194,
   "metadata": {},
   "outputs": [],
   "source": [
    "sw=list(stop_words)\n",
    "d=list('''!\"#$%&'()*+, -./:;<=>?@[\\]^_`{|}~''')\n",
    "sw1=d+abc"
   ]
  },
  {
   "cell_type": "code",
   "execution_count": 195,
   "metadata": {
    "scrolled": true
   },
   "outputs": [
    {
     "data": {
      "text/plain": [
       "179"
      ]
     },
     "execution_count": 195,
     "metadata": {},
     "output_type": "execute_result"
    }
   ],
   "source": [
    "len(sw)"
   ]
  },
  {
   "cell_type": "code",
   "execution_count": 198,
   "metadata": {},
   "outputs": [],
   "source": [
    "text='''The Biden administration has said it will open additional facilities for migrants after images from a detention centre in Texas showed children huddled together in crowded makeshift rooms.\n",
    "The Texas site, a government-run tent city in Donna at the US-Mexico border, is reportedly housing 1,000 people.\n",
    "The photos are the first to show conditions at such facilities since President Joe Biden took office.\n",
    "Critics have blamed Mr Biden for a surge in illegal migration to the US.\n",
    "Since taking office in January, Mr Biden has removed some of the restrictions for those entering the US introduced by his predecessor, Donald Trump.\n",
    "His administration has reversed a policy of turning away unaccompanied children at the border, instead opting to process them and place them with sponsoring families in the US.\n",
    "On Monday, White House Press Secretary Jen Psaki said the US government was working to provide further accommodation for arrivals &quot;in the coming days and weeks&quot;.\n",
    "&quot;Places where kids can have access to healthcare, can have access to educational resources - even legal resources,&quot; she said.\n",
    "Her comments came after images released on Monday by Texas Congressman Henry Cuellar, a Democrat, showed children at the facility in Donna sleeping on thin mattresses on the floor under foil blankets.\n",
    "The photos, reportedly captured at the weekend, have also raised concerns over a possible lack of social distancing during the coronavirus pandemic.\n",
    "The US Centers for Disease Control and Prevention (CDC) recommends that people remain 2m (6ft) apart to help prevent the spread of virus infections.\n",
    "Mr Cuellar said that those being housed at the centre had been divided among eight plastic &quot;pods&quot; that were overcrowded.\n",
    "Activists have also said that those housed at the site had not been given adequate access to soap or food.\n",
    "&quot;These photos show what we&#x27;ve long been saying, which is that these border patrol facilities are not places made for children,&quot; Ms Psaki said.\n",
    "She said the alternative was to send children back &quot;on this treacherous journey - that is not, in our view, the right choice to make&quot;.\n",
    "Journalists have not been permitted inside the detention centres since Mr Biden took office, although the White House has said that they will be.\n",
    "Lawyers who represent the children, and lawmakers who have toured the facilities, have described conditions as cramped.\n",
    "The number of unaccompanied minors at the border has increased sharply in recent months.\n",
    "The US government has said it wants to work with Mexico and Guatemala to address the root causes of the problem, which include widespread poverty and violence in Central America.\n",
    "Ms Psaki said there was special concern about the growing number of unaccompanied children arriving at US border crossings, and that their wellbeing was a priority.\n",
    "&quot;Children presenting at our border who are fleeing violence, who are fleeing persecution, who are fleeing terrible situations is not a crisis,&quot; she said.\n",
    "There has been a big influx of arrivals to the US southern border since Mr Biden took office, including hundreds of unaccompanied children who are being held in US immigration detention facilities.\n",
    "Since January, the president has ordered the reunification of migrant children with their families, ended construction of Mr Trump&#x27;s border wall and called for reviews of legal immigration programmes terminated by the former president.\n",
    "While in office, Mr Trump faced criticism over the conditions inside border facilities holding children.\n",
    "Some Trump-era facilities - now renovated and upgraded - are being used again.\n",
    "Despite concerns about coronavirus, health officials from the CDC have said these facilities can open at 100% capacity.\n",
    "© 2021 BBC.\n",
    "The BBC is not responsible for the content of external sites.\n",
    "Read about our approach to external linking.'''"
   ]
  },
  {
   "cell_type": "code",
   "execution_count": 197,
   "metadata": {},
   "outputs": [],
   "source": [
    "text='''The Biden administration has said it will open additional facilities for migrants after images from a detention centre in Texas showed children huddled together in crowded makeshift rooms.\n",
    "\n",
    "The Texas site, a government-run tent city in Donna at the US-Mexico border, is reportedly housing 1,000 people.\n",
    "\n",
    "The photos are the first to show conditions at such facilities since President Joe Biden took office.\n",
    "\n",
    "Critics have blamed Mr Biden for a surge in illegal migration to the US.\n",
    "\n",
    "Since taking office in January, Mr Biden has removed some of the restrictions for those entering the US introduced by his predecessor, Donald Trump.\n",
    "\n",
    "His administration has reversed a policy of turning away unaccompanied children at the border, instead opting to process them and place them with sponsoring families in the US.\n",
    "\n",
    "\n",
    "On Monday, White House Press Secretary Jen Psaki said the US government was working to provide further accommodation for arrivals \"in the coming days and weeks\".\n",
    "\n",
    "\"Places where kids can have access to healthcare, can have access to educational resources - even legal resources,\" she said.\n",
    "\n",
    "Her comments came after images released on Monday by Texas Congressman Henry Cuellar, a Democrat, showed children at the facility in Donna sleeping on thin mattresses on the floor under foil blankets.\n",
    "\n",
    "Migrants at the US Customs and Border Protection temporary processing centre in Donna, Texas, 22 March 2021\n",
    "\n",
    "The US Centers for Disease Control and Prevention (CDC) recommends that people remain 2m (6ft) apart to help prevent the spread of virus infections.\n",
    "\n",
    "Mr Cuellar said that those being housed at the centre had been divided among eight plastic \"pods\" that were overcrowded.\n",
    "\n",
    "Activists have also said that those housed at the site had not been given adequate access to soap or food.\n",
    "\n",
    "Migrants at the US Customs and Border Protection temporary processing centre in Donna, Texas, 22 March 2021\n",
    "\n",
    "\n",
    "She said the alternative was to send children back \"on this treacherous journey - that is not, in our view, the right choice to make\".\n",
    "\n",
    "Journalists have not been permitted inside the detention centres since Mr Biden took office, although the White House has said that they will be.\n",
    "\n",
    "Lawyers who represent the children, and lawmakers who have toured the facilities, have described conditions as cramped.\n",
    "\n",
    "Migrants at the US Customs and Border Protection temporary processing centre in the city of Donna\n",
    "\n",
    "\n",
    "The US government has said it wants to work with Mexico and Guatemala to address the root causes of the problem, which include widespread poverty and violence in Central America.\n",
    "\n",
    "Ms Psaki said there was special concern about the growing number of unaccompanied children arriving at US border crossings, and that their wellbeing was a priority.\n",
    "\n",
    "\"Children presenting at our border who are fleeing violence, who are fleeing persecution, who are fleeing terrible situations is not a crisis,\" she said.\n",
    "\n",
    "\"We feel that it is our responsibility to humanely approach this circumstance and make sure they are treated... and put in to conditions that are safe.\"\n",
    "\n",
    "The government-run tent city in Donna at the US-Mexico border\n",
    "There has been a big influx of arrivals to the US southern border since Mr Biden took office, including hundreds of unaccompanied children who are being held in US immigration detention facilities.\n",
    "\n",
    "Since January, the president has ordered the reunification of migrant children with their families, ended construction of Mr Trump's border wall and called for reviews of legal immigration programmes terminated by the former president.\n",
    "\n",
    "While in office, Mr Trump faced criticism over the conditions inside border facilities holding children.\n",
    "\n",
    "Some Trump-era facilities - now renovated and upgraded - are being used again. Despite concerns about coronavirus, health officials from the CDC have said these facilities can open at 100% capacity.'''"
   ]
  },
  {
   "cell_type": "code",
   "execution_count": 199,
   "metadata": {
    "scrolled": true
   },
   "outputs": [
    {
     "ename": "NameError",
     "evalue": "name 'summarize' is not defined",
     "output_type": "error",
     "traceback": [
      "\u001b[1;31m---------------------------------------------------------------------------\u001b[0m",
      "\u001b[1;31mNameError\u001b[0m                                 Traceback (most recent call last)",
      "\u001b[1;32m<ipython-input-199-d4ad4c098441>\u001b[0m in \u001b[0;36m<module>\u001b[1;34m()\u001b[0m\n\u001b[1;32m----> 1\u001b[1;33m \u001b[0mprint\u001b[0m\u001b[1;33m(\u001b[0m\u001b[0msummarize\u001b[0m\u001b[1;33m(\u001b[0m\u001b[0mtext\u001b[0m\u001b[1;33m,\u001b[0m\u001b[0mratio\u001b[0m\u001b[1;33m=\u001b[0m\u001b[1;36m.2\u001b[0m\u001b[1;33m)\u001b[0m\u001b[1;33m)\u001b[0m\u001b[1;33m\u001b[0m\u001b[0m\n\u001b[0m",
      "\u001b[1;31mNameError\u001b[0m: name 'summarize' is not defined"
     ]
    }
   ],
   "source": [
    "print(summarize(text,ratio=.2))"
   ]
  },
  {
   "cell_type": "code",
   "execution_count": 200,
   "metadata": {},
   "outputs": [],
   "source": [
    "import re\n",
    "text=re.sub(r'\\b\\w{1,2}\\b', '', text)"
   ]
  },
  {
   "cell_type": "code",
   "execution_count": 201,
   "metadata": {},
   "outputs": [],
   "source": [
    "from nltk import tokenize\n",
    "\n",
    "sent=tokenize.sent_tokenize(text.lower())\n"
   ]
  },
  {
   "cell_type": "code",
   "execution_count": 202,
   "metadata": {},
   "outputs": [],
   "source": [
    "#sent"
   ]
  },
  {
   "cell_type": "code",
   "execution_count": 203,
   "metadata": {
    "scrolled": true
   },
   "outputs": [
    {
     "name": "stdout",
     "output_type": "stream",
     "text": [
      "[['biden', 'administration', 'open', 'additional', 'facilities', 'migrants', 'images', 'detention', 'centre', 'texas', 'showed', 'children', 'huddled', 'crowded', 'makeshift', 'rooms'], ['texas', 'site', 'government-run', 'tent', 'city', 'donna', '-mexico', 'border', 'housing', ',000', 'people'], ['photos', 'first', 'show', 'conditions', 'facilities', 'president', 'joe', 'biden', 'took', 'office'], ['critics', 'blamed', 'biden', 'surge', 'illegal', 'migration'], ['taking', 'office', 'january', 'biden', 'removed', 'restrictions', 'entering', 'introduced', 'predecessor', 'donald', 'trump'], ['administration', 'reversed', 'policy', 'turning', 'unaccompanied', 'children', 'border', 'opting', 'process', 'place', 'sponsoring', 'families'], ['monday', 'white', 'house', 'press', 'secretary', 'jen', 'psaki', 'government', 'working', 'provide', 'accommodation', 'arrivals', 'quot', 'coming', 'days', 'weeks', 'quot'], ['quot', 'places', 'kids', 'access', 'healthcare', 'access', 'educational', 'resources', 'legal', 'resources', 'quot'], ['comments', 'came', 'images', 'released', 'monday', 'texas', 'congressman', 'henry', 'cuellar', 'democrat', 'showed', 'children', 'facility', 'donna', 'sleeping', 'thin', 'mattresses', 'floor', 'foil', 'blankets'], ['photos', 'captured', 'weekend', 'raised', 'concerns', 'possible', 'lack', 'social', 'distancing', 'coronavirus', 'pandemic'], ['centers', 'disease', 'control', 'prevention', 'cdc', 'recommends', 'people', 'remain', '6ft', 'help', 'prevent', 'spread', 'virus', 'infections'], ['cuellar', 'being', 'housed', 'centre', 'been', 'divided', 'eight', 'plastic', 'quot', 'pods', 'quot', 'overcrowded'], ['activists', 'housed', 'site', 'been', 'given', 'adequate', 'access', 'soap', 'food'], ['quot', 'photos', 'show', 'x27', 'been', 'saying', 'border', 'patrol', 'facilities', 'places', 'made', 'children', 'quot', 'psaki'], ['alternative', 'send', 'children', 'quot', 'treacherous', 'journey', 'view', 'choice', 'quot'], ['journalists', 'been', 'permitted', 'detention', 'centres', 'biden', 'took', 'office', 'white', 'house'], ['lawyers', 'represent', 'children', 'lawmakers', 'toured', 'facilities', 'described', 'conditions', 'cramped'], ['number', 'unaccompanied', 'minors', 'border', 'increased', 'recent', 'months'], ['government', 'wants', 'work', 'mexico', 'guatemala', 'address', 'root', 'causes', 'problem', 'include', 'widespread', 'poverty', 'violence', 'central', 'america'], ['psaki', 'special', 'concern', 'growing', 'number', 'unaccompanied', 'children', 'arriving', 'border', 'crossings', 'wellbeing', 'priority'], ['quot', 'children', 'presenting', 'border', 'fleeing', 'violence', 'fleeing', 'persecution', 'fleeing', 'terrible', 'situations', 'crisis', 'quot'], ['been', 'big', 'influx', 'arrivals', 'southern', 'border', 'biden', 'took', 'office', 'including', 'hundreds', 'unaccompanied', 'children', 'being', 'held', 'immigration', 'detention', 'facilities'], ['january', 'president', 'ordered', 'reunification', 'migrant', 'children', 'families', 'ended', 'construction', 'trump', 'x27', 'border', 'wall', 'called', 'reviews', 'legal', 'immigration', 'programmes', 'terminated', 'president'], ['office', 'trump', 'faced', 'criticism', 'conditions', 'border', 'facilities', 'holding', 'children'], ['trump-era', 'facilities', 'renovated', 'upgraded', 'being'], ['concerns', 'coronavirus', 'health', 'officials', 'cdc', 'facilities', 'open', '100', 'capacity'], ['©', '2021', 'bbc'], ['bbc', 'responsible', 'content', 'external', 'sites'], ['read', 'approach', 'external', 'linking']]\n"
     ]
    }
   ],
   "source": [
    "from nltk.corpus import stopwords\n",
    "from nltk.tokenize import word_tokenize\n",
    "\n",
    "\n",
    "\n",
    "stop_words = set(stopwords.words('english'))\n",
    "sent1=[]\n",
    "\n",
    "for i in sent:\n",
    "    word_tokens = word_tokenize(i)\n",
    "    filtered_sentence = [w for w in word_tokens if not w in sw1]\n",
    "    sent1.append(filtered_sentence)\n",
    "'''\n",
    "filtered_sentence = []\n",
    "\n",
    "for w in word_tokens:\n",
    "\tif w not in stop_words:\n",
    "\t\tfiltered_sentence.append(w)\n",
    "'''\n",
    "#print(word_tokens)\n",
    "print(sent1)\n"
   ]
  },
  {
   "cell_type": "code",
   "execution_count": null,
   "metadata": {},
   "outputs": [],
   "source": [
    "\n"
   ]
  },
  {
   "cell_type": "code",
   "execution_count": null,
   "metadata": {},
   "outputs": [],
   "source": []
  },
  {
   "cell_type": "code",
   "execution_count": 183,
   "metadata": {},
   "outputs": [],
   "source": [
    "sw.append('said')"
   ]
  },
  {
   "cell_type": "code",
   "execution_count": 204,
   "metadata": {},
   "outputs": [],
   "source": [
    "word_tokens = word_tokenize(text.lower()) \n",
    "\n",
    "\n",
    "filtered_sentence = [w for w in word_tokens if not w in sw1]"
   ]
  },
  {
   "cell_type": "code",
   "execution_count": null,
   "metadata": {},
   "outputs": [],
   "source": []
  },
  {
   "cell_type": "code",
   "execution_count": 205,
   "metadata": {},
   "outputs": [
    {
     "data": {
      "text/plain": [
       "['biden',\n",
       " 'administration',\n",
       " 'open',\n",
       " 'additional',\n",
       " 'facilities',\n",
       " 'migrants',\n",
       " 'images',\n",
       " 'detention',\n",
       " 'centre',\n",
       " 'texas',\n",
       " 'showed',\n",
       " 'children',\n",
       " 'huddled',\n",
       " 'crowded',\n",
       " 'makeshift',\n",
       " 'rooms',\n",
       " 'texas',\n",
       " 'site',\n",
       " 'government-run',\n",
       " 'tent',\n",
       " 'city',\n",
       " 'donna',\n",
       " '-mexico',\n",
       " 'border',\n",
       " 'housing',\n",
       " ',000',\n",
       " 'people',\n",
       " 'photos',\n",
       " 'first',\n",
       " 'show',\n",
       " 'conditions',\n",
       " 'facilities',\n",
       " 'president',\n",
       " 'joe',\n",
       " 'biden',\n",
       " 'took',\n",
       " 'office',\n",
       " 'critics',\n",
       " 'blamed',\n",
       " 'biden',\n",
       " 'surge',\n",
       " 'illegal',\n",
       " 'migration',\n",
       " 'taking',\n",
       " 'office',\n",
       " 'january',\n",
       " 'biden',\n",
       " 'removed',\n",
       " 'restrictions',\n",
       " 'entering',\n",
       " 'introduced',\n",
       " 'predecessor',\n",
       " 'donald',\n",
       " 'trump',\n",
       " 'administration',\n",
       " 'reversed',\n",
       " 'policy',\n",
       " 'turning',\n",
       " 'unaccompanied',\n",
       " 'children',\n",
       " 'border',\n",
       " 'opting',\n",
       " 'process',\n",
       " 'place',\n",
       " 'sponsoring',\n",
       " 'families',\n",
       " 'monday',\n",
       " 'white',\n",
       " 'house',\n",
       " 'press',\n",
       " 'secretary',\n",
       " 'jen',\n",
       " 'psaki',\n",
       " 'government',\n",
       " 'working',\n",
       " 'provide',\n",
       " 'accommodation',\n",
       " 'arrivals',\n",
       " 'quot',\n",
       " 'coming',\n",
       " 'days',\n",
       " 'weeks',\n",
       " 'quot',\n",
       " 'quot',\n",
       " 'places',\n",
       " 'kids',\n",
       " 'access',\n",
       " 'healthcare',\n",
       " 'access',\n",
       " 'educational',\n",
       " 'resources',\n",
       " 'legal',\n",
       " 'resources',\n",
       " 'quot',\n",
       " 'comments',\n",
       " 'came',\n",
       " 'images',\n",
       " 'released',\n",
       " 'monday',\n",
       " 'texas',\n",
       " 'congressman',\n",
       " 'henry',\n",
       " 'cuellar',\n",
       " 'democrat',\n",
       " 'showed',\n",
       " 'children',\n",
       " 'facility',\n",
       " 'donna',\n",
       " 'sleeping',\n",
       " 'thin',\n",
       " 'mattresses',\n",
       " 'floor',\n",
       " 'foil',\n",
       " 'blankets',\n",
       " 'photos',\n",
       " 'captured',\n",
       " 'weekend',\n",
       " 'raised',\n",
       " 'concerns',\n",
       " 'possible',\n",
       " 'lack',\n",
       " 'social',\n",
       " 'distancing',\n",
       " 'coronavirus',\n",
       " 'pandemic',\n",
       " 'centers',\n",
       " 'disease',\n",
       " 'control',\n",
       " 'prevention',\n",
       " 'cdc',\n",
       " 'recommends',\n",
       " 'people',\n",
       " 'remain',\n",
       " '6ft',\n",
       " 'help',\n",
       " 'prevent',\n",
       " 'spread',\n",
       " 'virus',\n",
       " 'infections',\n",
       " 'cuellar',\n",
       " 'being',\n",
       " 'housed',\n",
       " 'centre',\n",
       " 'been',\n",
       " 'divided',\n",
       " 'eight',\n",
       " 'plastic',\n",
       " 'quot',\n",
       " 'pods',\n",
       " 'quot',\n",
       " 'overcrowded',\n",
       " 'activists',\n",
       " 'housed',\n",
       " 'site',\n",
       " 'been',\n",
       " 'given',\n",
       " 'adequate',\n",
       " 'access',\n",
       " 'soap',\n",
       " 'food',\n",
       " 'quot',\n",
       " 'photos',\n",
       " 'show',\n",
       " 'x27',\n",
       " 'been',\n",
       " 'saying',\n",
       " 'border',\n",
       " 'patrol',\n",
       " 'facilities',\n",
       " 'places',\n",
       " 'made',\n",
       " 'children',\n",
       " 'quot',\n",
       " 'psaki',\n",
       " 'alternative',\n",
       " 'send',\n",
       " 'children',\n",
       " 'quot',\n",
       " 'treacherous',\n",
       " 'journey',\n",
       " 'view',\n",
       " 'choice',\n",
       " 'quot',\n",
       " 'journalists',\n",
       " 'been',\n",
       " 'permitted',\n",
       " 'detention',\n",
       " 'centres',\n",
       " 'biden',\n",
       " 'took',\n",
       " 'office',\n",
       " 'white',\n",
       " 'house',\n",
       " 'lawyers',\n",
       " 'represent',\n",
       " 'children',\n",
       " 'lawmakers',\n",
       " 'toured',\n",
       " 'facilities',\n",
       " 'described',\n",
       " 'conditions',\n",
       " 'cramped',\n",
       " 'number',\n",
       " 'unaccompanied',\n",
       " 'minors',\n",
       " 'border',\n",
       " 'increased',\n",
       " 'recent',\n",
       " 'months',\n",
       " 'government',\n",
       " 'wants',\n",
       " 'work',\n",
       " 'mexico',\n",
       " 'guatemala',\n",
       " 'address',\n",
       " 'root',\n",
       " 'causes',\n",
       " 'problem',\n",
       " 'include',\n",
       " 'widespread',\n",
       " 'poverty',\n",
       " 'violence',\n",
       " 'central',\n",
       " 'america',\n",
       " 'psaki',\n",
       " 'special',\n",
       " 'concern',\n",
       " 'growing',\n",
       " 'number',\n",
       " 'unaccompanied',\n",
       " 'children',\n",
       " 'arriving',\n",
       " 'border',\n",
       " 'crossings',\n",
       " 'wellbeing',\n",
       " 'priority',\n",
       " 'quot',\n",
       " 'children',\n",
       " 'presenting',\n",
       " 'border',\n",
       " 'fleeing',\n",
       " 'violence',\n",
       " 'fleeing',\n",
       " 'persecution',\n",
       " 'fleeing',\n",
       " 'terrible',\n",
       " 'situations',\n",
       " 'crisis',\n",
       " 'quot',\n",
       " 'been',\n",
       " 'big',\n",
       " 'influx',\n",
       " 'arrivals',\n",
       " 'southern',\n",
       " 'border',\n",
       " 'biden',\n",
       " 'took',\n",
       " 'office',\n",
       " 'including',\n",
       " 'hundreds',\n",
       " 'unaccompanied',\n",
       " 'children',\n",
       " 'being',\n",
       " 'held',\n",
       " 'immigration',\n",
       " 'detention',\n",
       " 'facilities',\n",
       " 'january',\n",
       " 'president',\n",
       " 'ordered',\n",
       " 'reunification',\n",
       " 'migrant',\n",
       " 'children',\n",
       " 'families',\n",
       " 'ended',\n",
       " 'construction',\n",
       " 'trump',\n",
       " 'x27',\n",
       " 'border',\n",
       " 'wall',\n",
       " 'called',\n",
       " 'reviews',\n",
       " 'legal',\n",
       " 'immigration',\n",
       " 'programmes',\n",
       " 'terminated',\n",
       " 'president',\n",
       " 'office',\n",
       " 'trump',\n",
       " 'faced',\n",
       " 'criticism',\n",
       " 'conditions',\n",
       " 'border',\n",
       " 'facilities',\n",
       " 'holding',\n",
       " 'children',\n",
       " 'trump-era',\n",
       " 'facilities',\n",
       " 'renovated',\n",
       " 'upgraded',\n",
       " 'being',\n",
       " 'concerns',\n",
       " 'coronavirus',\n",
       " 'health',\n",
       " 'officials',\n",
       " 'cdc',\n",
       " 'facilities',\n",
       " 'open',\n",
       " '100',\n",
       " 'capacity',\n",
       " '©',\n",
       " '2021',\n",
       " 'bbc',\n",
       " 'bbc',\n",
       " 'responsible',\n",
       " 'content',\n",
       " 'external',\n",
       " 'sites',\n",
       " 'read',\n",
       " 'approach',\n",
       " 'external',\n",
       " 'linking']"
      ]
     },
     "execution_count": 205,
     "metadata": {},
     "output_type": "execute_result"
    }
   ],
   "source": [
    "filtered_sentence"
   ]
  },
  {
   "cell_type": "code",
   "execution_count": 206,
   "metadata": {},
   "outputs": [],
   "source": [
    "import nltk\n",
    "data_analysis = nltk.FreqDist(filtered_sentence)"
   ]
  },
  {
   "cell_type": "code",
   "execution_count": 207,
   "metadata": {},
   "outputs": [
    {
     "data": {
      "text/plain": [
       "FreqDist({'quot': 12, 'children': 11, 'border': 9, 'facilities': 8, 'biden': 6, 'office': 5, 'been': 5, 'unaccompanied': 4, 'detention': 3, 'texas': 3, ...})"
      ]
     },
     "execution_count": 207,
     "metadata": {},
     "output_type": "execute_result"
    }
   ],
   "source": [
    "data_analysis"
   ]
  },
  {
   "cell_type": "code",
   "execution_count": 215,
   "metadata": {},
   "outputs": [
    {
     "data": {
      "text/plain": [
       "0"
      ]
     },
     "execution_count": 215,
     "metadata": {},
     "output_type": "execute_result"
    }
   ],
   "source": [
    "data_analysis['&quot']"
   ]
  },
  {
   "cell_type": "code",
   "execution_count": 209,
   "metadata": {},
   "outputs": [],
   "source": [
    "sentf=[0]*len(sent1)\n",
    "for n,i in enumerate (sent1):\n",
    "    sentf[n]=0\n",
    "    for j in i:\n",
    "        sentf[n]+=data_analysis[j]\n",
    "        "
   ]
  },
  {
   "cell_type": "code",
   "execution_count": 219,
   "metadata": {},
   "outputs": [
    {
     "name": "stdout",
     "output_type": "stream",
     "text": [
      "12\n",
      "11\n",
      "1\n",
      "9\n",
      "3\n",
      "2\n",
      "3\n",
      "1\n",
      "3\n",
      "1\n",
      "1\n",
      "1\n",
      "12\n"
     ]
    }
   ],
   "source": [
    "for i in sent1[20]:\n",
    "    print(data_analysis[i])"
   ]
  },
  {
   "cell_type": "code",
   "execution_count": 217,
   "metadata": {},
   "outputs": [
    {
     "data": {
      "text/plain": [
       "'the biden administration has said  will open additional facilities for migrants after images from  detention centre  texas showed children huddled together  crowded makeshift rooms.'"
      ]
     },
     "execution_count": 217,
     "metadata": {},
     "output_type": "execute_result"
    }
   ],
   "source": [
    "sent[0]"
   ]
  },
  {
   "cell_type": "code",
   "execution_count": 212,
   "metadata": {},
   "outputs": [
    {
     "name": "stdout",
     "output_type": "stream",
     "text": [
      "[26 28 27  3 24  9 10 12 18 17 25  4  1 16 15  2  5 19  8 14  7 23 11  6\n",
      "  0 22 20 21 13]\n"
     ]
    }
   ],
   "source": [
    "import numpy\n",
    "s = numpy.array(sentf)\n",
    "sort_index = numpy.argsort(s)\n",
    "print(sort_index)\n"
   ]
  },
  {
   "cell_type": "code",
   "execution_count": 220,
   "metadata": {},
   "outputs": [
    {
     "name": "stdout",
     "output_type": "stream",
     "text": [
      "&quot;these photos show what &#x27; long been saying, which  that these border patrol facilities are not places made for children,&quot;  psaki said.\n",
      "there has been  big influx  arrivals  the  southern border since  biden took office, including hundreds  unaccompanied children who are being held   immigration detention facilities.\n",
      "&quot;children presenting  our border who are fleeing violence, who are fleeing persecution, who are fleeing terrible situations  not  crisis,&quot; she said.\n",
      "since january, the president has ordered the reunification  migrant children with their families, ended construction   trump&#x27; border wall and called for reviews  legal immigration programmes terminated  the former president.\n",
      "the biden administration has said  will open additional facilities for migrants after images from  detention centre  texas showed children huddled together  crowded makeshift rooms.\n",
      "monday, white house press secretary jen psaki said the  government was working  provide further accommodation for arrivals &quot; the coming days and weeks&quot;.\n"
     ]
    }
   ],
   "source": [
    "for i in range(6):\n",
    "    print(sent[sort_index[-i-1]])"
   ]
  },
  {
   "cell_type": "markdown",
   "metadata": {},
   "source": [
    "### "
   ]
  },
  {
   "cell_type": "code",
   "execution_count": null,
   "metadata": {},
   "outputs": [],
   "source": []
  }
 ],
 "metadata": {
  "kernelspec": {
   "display_name": "Python 3",
   "language": "python",
   "name": "python3"
  },
  "language_info": {
   "codemirror_mode": {
    "name": "ipython",
    "version": 3
   },
   "file_extension": ".py",
   "mimetype": "text/x-python",
   "name": "python",
   "nbconvert_exporter": "python",
   "pygments_lexer": "ipython3",
   "version": "3.6.5"
  }
 },
 "nbformat": 4,
 "nbformat_minor": 2
}
