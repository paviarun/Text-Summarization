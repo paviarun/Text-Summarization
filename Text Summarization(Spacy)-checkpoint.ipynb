{
 "cells": [
  {
   "cell_type": "code",
   "execution_count": 12,
   "metadata": {},
   "outputs": [],
   "source": [
    "# Load Pkgs\n",
    "import spacy "
   ]
  },
  {
   "cell_type": "code",
   "execution_count": 13,
   "metadata": {},
   "outputs": [],
   "source": [
    "# Text Preprocessing Pkg\n",
    "from spacy.lang.en.stop_words import STOP_WORDS\n",
    "from string import punctuation"
   ]
  },
  {
   "cell_type": "code",
   "execution_count": 14,
   "metadata": {},
   "outputs": [],
   "source": [
    "# Import Heapq \n",
    "from heapq import nlargest"
   ]
  },
  {
   "cell_type": "code",
   "execution_count": 15,
   "metadata": {},
   "outputs": [],
   "source": [
    "# Build a List of Stopwords\n",
    "stopwords = list(STOP_WORDS)"
   ]
  },
  {
   "cell_type": "code",
   "execution_count": 37,
   "metadata": {},
   "outputs": [],
   "source": [
    "text =\"\"\"Live UpdatesMultiple dead in shooting at Colorado supermarketBy Veronica Rocha, Elise Hammond, Joshua Berlinger and Adam Renton, CNNUpdated 2:02 a.m. ET, March 23, 2021What we know nowTen people, including a Boulder police officer, were killed in a shooting at the King Soopers supermarket in Boulder, Colorado, police said.The suspect was taken into custody and is being treated for injuries, officials said.share with Facebookshare with Twittershare with emailshare link15 PostsSort byLatestOldestDropdown arrow6 hr 16 min agoPeople seen lying on the ground in eyewitness video of Colorado shootingFrom CNN's Paul MurphyVideo taken by an eyewitness to the Boulder, Colorado, supermarket shooting appears to show people lying on the ground inside and outside the store, and purported gunshots are heard.The video, taken by Dean Schiller, is part of a longer live stream that he took as the shooting progressed and police arrived. In the excerpt, Schiller is heard calling out saying that people need to call 9-1-1. “We don’t know if there’s a shooter — active shooter, active shooter somewhere,” Schiller said in the video. Schiller is heard on the video asking what appears to be a store employee whether a shooter went into the store.Here's how that conversation played out:\"Yeah, he went in there,\" the man responded.“He went in the store?” Schiller asked.“He went right down there,” the man responds. “Oh my god,” Schiller reacts. “People we got people down inside Kings Soopers.”Schiller then says, “Look there’s-,” but doesn’t finish his sentence as two gunshots stop his speaking.Some background: Boulder Police had tweeted earlier on Monday there was an, “Active Shooter at the King Soopers on Table Mesa. AVOID THE AREA.”CNN affiliate KMGH’s helicopter recorded a shirtless man being taken from the supermarket. The man had what appears to be blood on his arm and right leg and his hands appeared to be cuffed behind him as two officers escorted him away. The man was taken away in an ambulance.share with Facebookshare with Twittershare with emailshare link6 hr 24 min agoShooting witness says some people ran, others frozeRyan Borowski. Source: CNNRyan Borowski, one of the people inside the King Soopers grocery store when a shooter starting firing shots, said everyone helped each other get out of the back of the store.He said he heard two loud sounds, and by the third one, he and the people around him realized they were gunshots. He said they started running to the back of the store and employees helped them out the back door.\"We told employees what was going on so everybody helped each other and we just ran to safety as quickly as we could,\" Borowski told CNN from behind the store in Boulder, Colorado, about two hours after the shooting.Borowski said he was going to get ice cream, but then changed his mind and started walking the other way.\"I didn't see the shooter. I saw terrified faces running towards me and that's when I turned and ran the other direction,\" he said.He said everyone was helping each other, but while some people ran, others froze.\"We ran and I don't know why other people didn't and I am sorry that they froze and I just wish that this didn't happen – I wish I had an answer for why it did,\" he said.He said he could have never imagined a situation like this happening in Boulder.\"Boulder feels like a bubble and the bubble burst and that's heartbreaking. To think that people died today,\" Borowski said. Police have not confirmed whether anyone was killed.\"This feels like the safest spot in America and I just nearly got killed for getting a soda, you know, and a bag of chips. Doesn't feel good,\" he added.Watch here:share with Facebookshare with Twittershare with emailshare link6 hr 45 min agoThe FBI is on scene to assist Boulder policeFrom CNN's Jamiel Lynch FBI Denver personnel are on scene helping the Boulder Police Department, according to a tweet.“At the request of the Boulder Police Department, FBI Denver personnel are assisting with an investigation into an active shooter situation at a King Soopers grocery store on Table Mesa Drive in Boulder,” the agency tweeted.CNN’s Lucy Kafanov reported seeing FBI agents on the scene at the supermarket.share with Facebookshare with Twittershare with emailshare link7 hr 1 min agoMan says his family members hid inside a closet for an hourCNN affiliate KCNC reporter Conor McCue spoke with a man whose family was inside the King Soopers pharmacy to get a Covid-19 vaccine when the shooter arrived. He said they hid in a closet for an hour before being rescued through the roof.\"I got the call from my daughter and my grandchildren that my son-in-law walked into the pharmacy for him to get a Covid-19 shot and the shooter came in, shot the woman in front of them,\" the man told KCNC.\"They hid, ran upstairs, were hiding in a coat closet for the last hour,\" he said. \"They are okay. They just are now out the back,\" he added.He said his daughter was texting him from the closet, before turning her phone off.\"They were texting, hiding in the coat closet. Turned their phone off and were going ‘we’re hiding, we’re okay’ you know, ‘don't call’ you know the phone would ring and give away their position,\" he said.share with Facebookshare with Twittershare with emailshare link7 hr 4 min agoBoulder Community Health has one patientFrom CNN’s Jamiel LynchBoulder Community Health says they have had one patient transported to their facility from the shooting at King Soopers, Rich Sheehan, a spokesperson with Boulder Community Health, told CNN. Sheehan said he is not able to release details about the person’s condition. Boulder Community Health is a Level II Trauma Center.We don't know about the conditions of anyone else in the store at this time.share with Facebookshare with Twittershare with emailshare link7 hr 17 min agoBoulder mayor says no words can describe \"the tragedy\" that is unfoldingBoulder, Colorado, Mayor Sam Weaver thanked police officers and first responders at the scene of an active shooter, saying \"words can do no justice to the tragedy that has unfolded this afternoon.\"\"Our community will soon grieve our losses, and begin our healing. Our brave police officers and first responders have the gratitude of our entire city,\" Weaver said in a tweet on Monday.Colorado Gov. Jared Polis said earlier that he is \"closely watching\" as events unfold.Boulder police say the scene is still \"very active,\" but we do not know a lot of information about what happened – including the conditions of people inside the store.share with Facebookshare with Twittershare with emailshare link7 hr 24 min agoBoulder police urge people to stay awayFrom CNN’s Keith Allen via KUSABoulder police are urging people to stay inside because the scene at King Soopers is still \"very active\" as they respond to reports of an active shooter.“Please avoid the area of Table Mesa & Broadway! This is still a very active scene,” Boulder police tweeted moments ago. “Do NOT broadcast on social media any tactical information you might see.”“If you live nearby please stay inside for now,” Boulder police tweeted.CNN affiliate KMGH’s helicopter also filmed several people led away from the King Soopers store by police. SWAT vehicles were also seen moving about, and multiple officers were in tactical positions around the store’s exterior.Police were also seen moving on the roof of the store, the purposes for the roof movements are unclear.share with Facebookshare with Twittershare with emailshare link7 hr 27 min agoWitness describes scene inside supermarket: \"Everybody was running\"An eyewitness told CNN affiliate KCNC he was inside the King Sooper grocery store at the time of the shooting. He described an urgent, but orderly escape from the store. He told KCNC: \"We weren't tripping over each other, but we were single file just you know, somebody had their hand on my back, I had my hand on somebody's back, and we were just saying go, go, go, run.\"The witness told the TV station that he went to the store to grab a soda and chips, when he heard \"one loud bang, thought somebody just dropped something an employee or something, and then another, and then by the third one, everybody was running.\"share with Facebookshare with Twittershare with emailshare link7 hr 9 min agoPolice are likely securing the building right now, former law enforcement officials say via KMGHPhil Mudd, a former FBI senior intelligence adviser, said at this point in the investigation, police are concerned with two primary things: Making sure the building is secure and finding the shooter, or shooters.\"Right now, you've got to ensure this is the only person – if they picked up something already – and that the facility is secure,\" he told CNN on Monday as law enforcement are responding to the situation.He said this is not an easy task, and it will take time to make sure it is safe.\"In a building of that size, that you can clear the building and guarantee that nobody else is in there, think about every storage component in that building, every refrigerated room. It will take a while to clear it,\" Mudd said.Charles Ramsey, a former Philadelphia police commissioner, said officials need to make sure the building is secure before releasing more information.\"They may give some preliminary information, but it won't be much. It will be pretty sketchy at this point in time. These scenes are very chaotic in the early stages. So it's got to settle down,\" he said.\"Number one is clear the scene, make sure you eliminate whatever threat may be there and that that building is totally secure,\" Ramsey added.Watch here:share with Facebookshare with Twittershare with emailshare link\"\"\""
   ]
  },
  {
   "cell_type": "code",
   "execution_count": 38,
   "metadata": {},
   "outputs": [],
   "source": [
    "nlp = spacy.load('en')"
   ]
  },
  {
   "cell_type": "code",
   "execution_count": 39,
   "metadata": {},
   "outputs": [],
   "source": [
    "def text_summarizer(raw_docx):\n",
    "    raw_text = raw_docx\n",
    "    docx = nlp(raw_text)\n",
    "    stopwords = list(STOP_WORDS)\n",
    "    # Build Word Frequency\n",
    "# word.text is tokenization in spacy\n",
    "    word_frequencies = {}  \n",
    "    for word in docx:  \n",
    "        if word.text not in stopwords:\n",
    "            if word.text not in word_frequencies.keys():\n",
    "                word_frequencies[word.text] = 1\n",
    "            else:\n",
    "                word_frequencies[word.text] += 1\n",
    "\n",
    "\n",
    "    maximum_frequncy = max(word_frequencies.values())\n",
    "    for word in word_frequencies.keys():  \n",
    "        word_frequencies[word] = (word_frequencies[word]/maximum_frequncy)\n",
    "    # Sentence Tokens\n",
    "    sentence_list = [ sentence for sentence in docx.sents ]\n",
    "\n",
    "    # Calculate Sentence Score and Ranking\n",
    "    sentence_scores = {}  \n",
    "    for sent in sentence_list:  \n",
    "        for word in sent:\n",
    "            if word.text.lower() in word_frequencies.keys():\n",
    "                if len(sent.text.split(' ')) < 30:\n",
    "                    if sent not in sentence_scores.keys():\n",
    "                        sentence_scores[sent] = word_frequencies[word.text.lower()]\n",
    "                    else:\n",
    "                        sentence_scores[sent] += word_frequencies[word.text.lower()]\n",
    "\n",
    "    # Find N Largest\n",
    "    summary_sentences = nlargest(7, sentence_scores, key=sentence_scores.get)\n",
    "    final_sentences = [ w.text for w in summary_sentences ]\n",
    "    summary = ' '.join(final_sentences)\n",
    "    print(\"Original Document\\n\")\n",
    "    print(raw_docx)\n",
    "    print(\"Total Length:\",len(raw_docx))\n",
    "    print('\\n\\nSummarized Document\\n')\n",
    "    print(summary)\n",
    "    print(\"Total Length:\",len(summary))\n",
    "    "
   ]
  },
  {
   "cell_type": "code",
   "execution_count": 40,
   "metadata": {},
   "outputs": [
    {
     "name": "stdout",
     "output_type": "stream",
     "text": [
      "Original Document\n",
      "\n",
      "Live UpdatesMultiple dead in shooting at Colorado supermarketBy Veronica Rocha, Elise Hammond, Joshua Berlinger and Adam Renton, CNNUpdated 2:02 a.m. ET, March 23, 2021What we know nowTen people, including a Boulder police officer, were killed in a shooting at the King Soopers supermarket in Boulder, Colorado, police said.The suspect was taken into custody and is being treated for injuries, officials said.share with Facebookshare with Twittershare with emailshare link15 PostsSort byLatestOldestDropdown arrow6 hr 16 min agoPeople seen lying on the ground in eyewitness video of Colorado shootingFrom CNN's Paul MurphyVideo taken by an eyewitness to the Boulder, Colorado, supermarket shooting appears to show people lying on the ground inside and outside the store, and purported gunshots are heard.The video, taken by Dean Schiller, is part of a longer live stream that he took as the shooting progressed and police arrived. In the excerpt, Schiller is heard calling out saying that people need to call 9-1-1. “We don’t know if there’s a shooter — active shooter, active shooter somewhere,” Schiller said in the video. Schiller is heard on the video asking what appears to be a store employee whether a shooter went into the store.Here's how that conversation played out:\"Yeah, he went in there,\" the man responded.“He went in the store?” Schiller asked.“He went right down there,” the man responds. “Oh my god,” Schiller reacts. “People we got people down inside Kings Soopers.”Schiller then says, “Look there’s-,” but doesn’t finish his sentence as two gunshots stop his speaking.Some background: Boulder Police had tweeted earlier on Monday there was an, “Active Shooter at the King Soopers on Table Mesa. AVOID THE AREA.”CNN affiliate KMGH’s helicopter recorded a shirtless man being taken from the supermarket. The man had what appears to be blood on his arm and right leg and his hands appeared to be cuffed behind him as two officers escorted him away. The man was taken away in an ambulance.share with Facebookshare with Twittershare with emailshare link6 hr 24 min agoShooting witness says some people ran, others frozeRyan Borowski. Source: CNNRyan Borowski, one of the people inside the King Soopers grocery store when a shooter starting firing shots, said everyone helped each other get out of the back of the store.He said he heard two loud sounds, and by the third one, he and the people around him realized they were gunshots. He said they started running to the back of the store and employees helped them out the back door.\"We told employees what was going on so everybody helped each other and we just ran to safety as quickly as we could,\" Borowski told CNN from behind the store in Boulder, Colorado, about two hours after the shooting.Borowski said he was going to get ice cream, but then changed his mind and started walking the other way.\"I didn't see the shooter. I saw terrified faces running towards me and that's when I turned and ran the other direction,\" he said.He said everyone was helping each other, but while some people ran, others froze.\"We ran and I don't know why other people didn't and I am sorry that they froze and I just wish that this didn't happen – I wish I had an answer for why it did,\" he said.He said he could have never imagined a situation like this happening in Boulder.\"Boulder feels like a bubble and the bubble burst and that's heartbreaking. To think that people died today,\" Borowski said. Police have not confirmed whether anyone was killed.\"This feels like the safest spot in America and I just nearly got killed for getting a soda, you know, and a bag of chips. Doesn't feel good,\" he added.Watch here:share with Facebookshare with Twittershare with emailshare link6 hr 45 min agoThe FBI is on scene to assist Boulder policeFrom CNN's Jamiel Lynch FBI Denver personnel are on scene helping the Boulder Police Department, according to a tweet.“At the request of the Boulder Police Department, FBI Denver personnel are assisting with an investigation into an active shooter situation at a King Soopers grocery store on Table Mesa Drive in Boulder,” the agency tweeted.CNN’s Lucy Kafanov reported seeing FBI agents on the scene at the supermarket.share with Facebookshare with Twittershare with emailshare link7 hr 1 min agoMan says his family members hid inside a closet for an hourCNN affiliate KCNC reporter Conor McCue spoke with a man whose family was inside the King Soopers pharmacy to get a Covid-19 vaccine when the shooter arrived. He said they hid in a closet for an hour before being rescued through the roof.\"I got the call from my daughter and my grandchildren that my son-in-law walked into the pharmacy for him to get a Covid-19 shot and the shooter came in, shot the woman in front of them,\" the man told KCNC.\"They hid, ran upstairs, were hiding in a coat closet for the last hour,\" he said. \"They are okay. They just are now out the back,\" he added.He said his daughter was texting him from the closet, before turning her phone off.\"They were texting, hiding in the coat closet. Turned their phone off and were going ‘we’re hiding, we’re okay’ you know, ‘don't call’ you know the phone would ring and give away their position,\" he said.share with Facebookshare with Twittershare with emailshare link7 hr 4 min agoBoulder Community Health has one patientFrom CNN’s Jamiel LynchBoulder Community Health says they have had one patient transported to their facility from the shooting at King Soopers, Rich Sheehan, a spokesperson with Boulder Community Health, told CNN. Sheehan said he is not able to release details about the person’s condition. Boulder Community Health is a Level II Trauma Center.We don't know about the conditions of anyone else in the store at this time.share with Facebookshare with Twittershare with emailshare link7 hr 17 min agoBoulder mayor says no words can describe \"the tragedy\" that is unfoldingBoulder, Colorado, Mayor Sam Weaver thanked police officers and first responders at the scene of an active shooter, saying \"words can do no justice to the tragedy that has unfolded this afternoon.\"\"Our community will soon grieve our losses, and begin our healing. Our brave police officers and first responders have the gratitude of our entire city,\" Weaver said in a tweet on Monday.Colorado Gov. Jared Polis said earlier that he is \"closely watching\" as events unfold.Boulder police say the scene is still \"very active,\" but we do not know a lot of information about what happened – including the conditions of people inside the store.share with Facebookshare with Twittershare with emailshare link7 hr 24 min agoBoulder police urge people to stay awayFrom CNN’s Keith Allen via KUSABoulder police are urging people to stay inside because the scene at King Soopers is still \"very active\" as they respond to reports of an active shooter.“Please avoid the area of Table Mesa & Broadway! This is still a very active scene,” Boulder police tweeted moments ago. “Do NOT broadcast on social media any tactical information you might see.”“If you live nearby please stay inside for now,” Boulder police tweeted.CNN affiliate KMGH’s helicopter also filmed several people led away from the King Soopers store by police. SWAT vehicles were also seen moving about, and multiple officers were in tactical positions around the store’s exterior.Police were also seen moving on the roof of the store, the purposes for the roof movements are unclear.share with Facebookshare with Twittershare with emailshare link7 hr 27 min agoWitness describes scene inside supermarket: \"Everybody was running\"An eyewitness told CNN affiliate KCNC he was inside the King Sooper grocery store at the time of the shooting. He described an urgent, but orderly escape from the store. He told KCNC: \"We weren't tripping over each other, but we were single file just you know, somebody had their hand on my back, I had my hand on somebody's back, and we were just saying go, go, go, run.\"The witness told the TV station that he went to the store to grab a soda and chips, when he heard \"one loud bang, thought somebody just dropped something an employee or something, and then another, and then by the third one, everybody was running.\"share with Facebookshare with Twittershare with emailshare link7 hr 9 min agoPolice are likely securing the building right now, former law enforcement officials say via KMGHPhil Mudd, a former FBI senior intelligence adviser, said at this point in the investigation, police are concerned with two primary things: Making sure the building is secure and finding the shooter, or shooters.\"Right now, you've got to ensure this is the only person – if they picked up something already – and that the facility is secure,\" he told CNN on Monday as law enforcement are responding to the situation.He said this is not an easy task, and it will take time to make sure it is safe.\"In a building of that size, that you can clear the building and guarantee that nobody else is in there, think about every storage component in that building, every refrigerated room. It will take a while to clear it,\" Mudd said.Charles Ramsey, a former Philadelphia police commissioner, said officials need to make sure the building is secure before releasing more information.\"They may give some preliminary information, but it won't be much. It will be pretty sketchy at this point in time. These scenes are very chaotic in the early stages. So it's got to settle down,\" he said.\"Number one is clear the scene, make sure you eliminate whatever threat may be there and that that building is totally secure,\" Ramsey added.Watch here:share with Facebookshare with Twittershare with emailshare link\n",
      "Total Length: 9672\n",
      "\n",
      "\n",
      "Summarized Document\n",
      "\n",
      "somebody had their hand on my back, I had my hand on somebody's back, and we were just saying go, go, go, run. we know nowTen people, including a Boulder police officer, were killed in a shooting at the King Soopers supermarket in Boulder, Colorado, police said. “We don’t know if there’s a shooter — active shooter, active shooter somewhere,” Schiller said in the video. one is clear the scene, make sure you eliminate whatever threat may be there and that that building is totally secure,\" Ramsey added. Charles Ramsey, a former Philadelphia police commissioner, said officials need to make sure the building is secure before releasing more information. He said he heard two loud sounds, and by the third one, he and the people around him realized they were gunshots. He said everyone was helping each other, but while some people ran, others froze.\n",
      "Total Length: 851\n"
     ]
    }
   ],
   "source": [
    "text_summarizer(text)"
   ]
  },
  {
   "cell_type": "code",
   "execution_count": 41,
   "metadata": {},
   "outputs": [
    {
     "name": "stdout",
     "output_type": "stream",
     "text": [
      "Original Document\n",
      "\n",
      "Live UpdatesMultiple dead in shooting at Colorado supermarketBy Veronica Rocha, Elise Hammond, Joshua Berlinger and Adam Renton, CNNUpdated 2:02 a.m. ET, March 23, 2021What we know nowTen people, including a Boulder police officer, were killed in a shooting at the King Soopers supermarket in Boulder, Colorado, police said.The suspect was taken into custody and is being treated for injuries, officials said.share with Facebookshare with Twittershare with emailshare link15 PostsSort byLatestOldestDropdown arrow6 hr 16 min agoPeople seen lying on the ground in eyewitness video of Colorado shootingFrom CNN's Paul MurphyVideo taken by an eyewitness to the Boulder, Colorado, supermarket shooting appears to show people lying on the ground inside and outside the store, and purported gunshots are heard.The video, taken by Dean Schiller, is part of a longer live stream that he took as the shooting progressed and police arrived. In the excerpt, Schiller is heard calling out saying that people need to call 9-1-1. “We don’t know if there’s a shooter — active shooter, active shooter somewhere,” Schiller said in the video. Schiller is heard on the video asking what appears to be a store employee whether a shooter went into the store.Here's how that conversation played out:\"Yeah, he went in there,\" the man responded.“He went in the store?” Schiller asked.“He went right down there,” the man responds. “Oh my god,” Schiller reacts. “People we got people down inside Kings Soopers.”Schiller then says, “Look there’s-,” but doesn’t finish his sentence as two gunshots stop his speaking.Some background: Boulder Police had tweeted earlier on Monday there was an, “Active Shooter at the King Soopers on Table Mesa. AVOID THE AREA.”CNN affiliate KMGH’s helicopter recorded a shirtless man being taken from the supermarket. The man had what appears to be blood on his arm and right leg and his hands appeared to be cuffed behind him as two officers escorted him away. The man was taken away in an ambulance.share with Facebookshare with Twittershare with emailshare link6 hr 24 min agoShooting witness says some people ran, others frozeRyan Borowski. Source: CNNRyan Borowski, one of the people inside the King Soopers grocery store when a shooter starting firing shots, said everyone helped each other get out of the back of the store.He said he heard two loud sounds, and by the third one, he and the people around him realized they were gunshots. He said they started running to the back of the store and employees helped them out the back door.\"We told employees what was going on so everybody helped each other and we just ran to safety as quickly as we could,\" Borowski told CNN from behind the store in Boulder, Colorado, about two hours after the shooting.Borowski said he was going to get ice cream, but then changed his mind and started walking the other way.\"I didn't see the shooter. I saw terrified faces running towards me and that's when I turned and ran the other direction,\" he said.He said everyone was helping each other, but while some people ran, others froze.\"We ran and I don't know why other people didn't and I am sorry that they froze and I just wish that this didn't happen – I wish I had an answer for why it did,\" he said.He said he could have never imagined a situation like this happening in Boulder.\"Boulder feels like a bubble and the bubble burst and that's heartbreaking. To think that people died today,\" Borowski said. Police have not confirmed whether anyone was killed.\"This feels like the safest spot in America and I just nearly got killed for getting a soda, you know, and a bag of chips. Doesn't feel good,\" he added.Watch here:share with Facebookshare with Twittershare with emailshare link6 hr 45 min agoThe FBI is on scene to assist Boulder policeFrom CNN's Jamiel Lynch FBI Denver personnel are on scene helping the Boulder Police Department, according to a tweet.“At the request of the Boulder Police Department, FBI Denver personnel are assisting with an investigation into an active shooter situation at a King Soopers grocery store on Table Mesa Drive in Boulder,” the agency tweeted.CNN’s Lucy Kafanov reported seeing FBI agents on the scene at the supermarket.share with Facebookshare with Twittershare with emailshare link7 hr 1 min agoMan says his family members hid inside a closet for an hourCNN affiliate KCNC reporter Conor McCue spoke with a man whose family was inside the King Soopers pharmacy to get a Covid-19 vaccine when the shooter arrived. He said they hid in a closet for an hour before being rescued through the roof.\"I got the call from my daughter and my grandchildren that my son-in-law walked into the pharmacy for him to get a Covid-19 shot and the shooter came in, shot the woman in front of them,\" the man told KCNC.\"They hid, ran upstairs, were hiding in a coat closet for the last hour,\" he said. \"They are okay. They just are now out the back,\" he added.He said his daughter was texting him from the closet, before turning her phone off.\"They were texting, hiding in the coat closet. Turned their phone off and were going ‘we’re hiding, we’re okay’ you know, ‘don't call’ you know the phone would ring and give away their position,\" he said.share with Facebookshare with Twittershare with emailshare link7 hr 4 min agoBoulder Community Health has one patientFrom CNN’s Jamiel LynchBoulder Community Health says they have had one patient transported to their facility from the shooting at King Soopers, Rich Sheehan, a spokesperson with Boulder Community Health, told CNN. Sheehan said he is not able to release details about the person’s condition. Boulder Community Health is a Level II Trauma Center.We don't know about the conditions of anyone else in the store at this time.share with Facebookshare with Twittershare with emailshare link7 hr 17 min agoBoulder mayor says no words can describe \"the tragedy\" that is unfoldingBoulder, Colorado, Mayor Sam Weaver thanked police officers and first responders at the scene of an active shooter, saying \"words can do no justice to the tragedy that has unfolded this afternoon.\"\"Our community will soon grieve our losses, and begin our healing. Our brave police officers and first responders have the gratitude of our entire city,\" Weaver said in a tweet on Monday.Colorado Gov. Jared Polis said earlier that he is \"closely watching\" as events unfold.Boulder police say the scene is still \"very active,\" but we do not know a lot of information about what happened – including the conditions of people inside the store.share with Facebookshare with Twittershare with emailshare link7 hr 24 min agoBoulder police urge people to stay awayFrom CNN’s Keith Allen via KUSABoulder police are urging people to stay inside because the scene at King Soopers is still \"very active\" as they respond to reports of an active shooter.“Please avoid the area of Table Mesa & Broadway! This is still a very active scene,” Boulder police tweeted moments ago. “Do NOT broadcast on social media any tactical information you might see.”“If you live nearby please stay inside for now,” Boulder police tweeted.CNN affiliate KMGH’s helicopter also filmed several people led away from the King Soopers store by police. SWAT vehicles were also seen moving about, and multiple officers were in tactical positions around the store’s exterior.Police were also seen moving on the roof of the store, the purposes for the roof movements are unclear.share with Facebookshare with Twittershare with emailshare link7 hr 27 min agoWitness describes scene inside supermarket: \"Everybody was running\"An eyewitness told CNN affiliate KCNC he was inside the King Sooper grocery store at the time of the shooting. He described an urgent, but orderly escape from the store. He told KCNC: \"We weren't tripping over each other, but we were single file just you know, somebody had their hand on my back, I had my hand on somebody's back, and we were just saying go, go, go, run.\"The witness told the TV station that he went to the store to grab a soda and chips, when he heard \"one loud bang, thought somebody just dropped something an employee or something, and then another, and then by the third one, everybody was running.\"share with Facebookshare with Twittershare with emailshare link7 hr 9 min agoPolice are likely securing the building right now, former law enforcement officials say via KMGHPhil Mudd, a former FBI senior intelligence adviser, said at this point in the investigation, police are concerned with two primary things: Making sure the building is secure and finding the shooter, or shooters.\"Right now, you've got to ensure this is the only person – if they picked up something already – and that the facility is secure,\" he told CNN on Monday as law enforcement are responding to the situation.He said this is not an easy task, and it will take time to make sure it is safe.\"In a building of that size, that you can clear the building and guarantee that nobody else is in there, think about every storage component in that building, every refrigerated room. It will take a while to clear it,\" Mudd said.Charles Ramsey, a former Philadelphia police commissioner, said officials need to make sure the building is secure before releasing more information.\"They may give some preliminary information, but it won't be much. It will be pretty sketchy at this point in time. These scenes are very chaotic in the early stages. So it's got to settle down,\" he said.\"Number one is clear the scene, make sure you eliminate whatever threat may be there and that that building is totally secure,\" Ramsey added.Watch here:share with Facebookshare with Twittershare with emailshare link\n",
      "Total Length: 9672\n",
      "\n",
      "\n",
      "Summarized Document\n",
      "\n",
      "somebody had their hand on my back, I had my hand on somebody's back, and we were just saying go, go, go, run. we know nowTen people, including a Boulder police officer, were killed in a shooting at the King Soopers supermarket in Boulder, Colorado, police said. “We don’t know if there’s a shooter — active shooter, active shooter somewhere,” Schiller said in the video. one is clear the scene, make sure you eliminate whatever threat may be there and that that building is totally secure,\" Ramsey added. Charles Ramsey, a former Philadelphia police commissioner, said officials need to make sure the building is secure before releasing more information. He said he heard two loud sounds, and by the third one, he and the people around him realized they were gunshots. He said everyone was helping each other, but while some people ran, others froze.\n",
      "Total Length: 851\n"
     ]
    }
   ],
   "source": [
    "text_summarizer(text)"
   ]
  },
  {
   "cell_type": "code",
   "execution_count": null,
   "metadata": {},
   "outputs": [],
   "source": []
  },
  {
   "cell_type": "code",
   "execution_count": null,
   "metadata": {},
   "outputs": [],
   "source": []
  }
 ],
 "metadata": {
  "kernelspec": {
   "display_name": "Python 3",
   "language": "python",
   "name": "python3"
  },
  "language_info": {
   "codemirror_mode": {
    "name": "ipython",
    "version": 3
   },
   "file_extension": ".py",
   "mimetype": "text/x-python",
   "name": "python",
   "nbconvert_exporter": "python",
   "pygments_lexer": "ipython3",
   "version": "3.7.6"
  }
 },
 "nbformat": 4,
 "nbformat_minor": 4
}
